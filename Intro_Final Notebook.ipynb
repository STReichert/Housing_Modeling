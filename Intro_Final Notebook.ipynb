{
 "cells": [
  {
   "cell_type": "markdown",
   "id": "aed2d14a",
   "metadata": {},
   "source": [
    "# Final Project\n",
    "### Allie Padgett, Michael Rosen, Nicole Matteson, Seth Reichert\n",
    "### Urban Data Science (2022)"
   ]
  },
  {
   "cell_type": "markdown",
   "id": "7baf620b",
   "metadata": {},
   "source": [
    "## Introduction\n",
    "Much ink has been spilled trying to untangle the relationship between demographics, rental prices, and new construction in a city – especially in a city as expensive and racially stratified as Los Angeles. These analyses often focus on trying to establish causal relationships or examining change over time, often with a goal of developing policy interventions that could slow the rise of rent prices. \n",
    "\n",
    "We sought to put our own twist on this analysis by bringing in the most up to date rental information it is possible to obtain – live rental listings from craigslist. Additionally, rather than establishing causal relationships, we were primarily interested in the predictive power enabled by machine learning techniques: can demographic information and building permit data predict rent prices? This situates our research purely in the present, rather than seeking to understand the past, which is both a limitation and an asset. \n",
    "\n",
    "Our approach posed several methodological challenges, most notably difficulty in scraping the craigslist data (discussed in more detail below). The other significant challenge was in cleaning and joining our data – as we have come to expect with \"big data,\" there were many instances where data did not align perfectly or required quite a bit of wrangling. However, once we were able to build a dataframe with listings, census variables, and permit data, the machine learning components were more straightforward. \n",
    "\n",
    "---> this paragraph will need to be edited once we have our conclusion:\n",
    "\n",
    "In the end, we found that predicting rent prices based on permit data and demographic information was far more successful than predicting permit counts based on rents and demographics. In fact, the most important feature for predicting rent prices was the racial makeup of the census tract – specifically the percentage of Black or Asian residents. While this is a depressing outcome in many ways, it also reflects the realities of our racially and economically segregated city (and the ways in which those two are heavily interrelated). \n"
   ]
  },
  {
   "cell_type": "markdown",
   "id": "1be08673",
   "metadata": {},
   "source": [
    "**Table of Contents:**\n",
    "1. Acquiring Data\n",
    "2. Cleaning, Wrangling, and Joining Data\n",
    "3. Machine Learning\n",
    "4. Conclusions"
   ]
  },
  {
   "cell_type": "markdown",
   "id": "c5cf8fee",
   "metadata": {},
   "source": [
    "## Acquiring Data"
   ]
  },
  {
   "cell_type": "markdown",
   "id": "c7661eca",
   "metadata": {},
   "source": [
    "## Cleaning, Wrangling, and Joining Data"
   ]
  },
  {
   "cell_type": "markdown",
   "id": "96bb1fae",
   "metadata": {},
   "source": [
    "## Machine Learning"
   ]
  },
  {
   "cell_type": "code",
   "execution_count": null,
   "id": "7b9e55cf",
   "metadata": {},
   "outputs": [],
   "source": []
  }
 ],
 "metadata": {
  "kernelspec": {
   "display_name": "Python 3 (ipykernel)",
   "language": "python",
   "name": "python3"
  },
  "language_info": {
   "codemirror_mode": {
    "name": "ipython",
    "version": 3
   },
   "file_extension": ".py",
   "mimetype": "text/x-python",
   "name": "python",
   "nbconvert_exporter": "python",
   "pygments_lexer": "ipython3",
   "version": "3.8.13"
  }
 },
 "nbformat": 4,
 "nbformat_minor": 5
}
