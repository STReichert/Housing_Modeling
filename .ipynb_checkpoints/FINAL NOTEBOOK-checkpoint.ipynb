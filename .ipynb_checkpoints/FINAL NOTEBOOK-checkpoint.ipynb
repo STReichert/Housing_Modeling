{
 "cells": [
  {
   "cell_type": "markdown",
   "id": "d5d444bf",
   "metadata": {},
   "source": [
    "Much ink has been spilled trying to untangle the relationship between demographics, rental prices, and new construction in a city – especially in a city as expensive as Los Angeles. These analyses often focus on trying to establish causal relationships or examining change over time, often with a goal of developing policy interventions that could slow the rise of rent prices. \n",
    "\n",
    "We sought to put our own twist on this analysis by bringing in the most up to date rental information it is possible to obtain – live rental listings from craigslist. Additionally, rather than establishing causal relationships, we were primarily interested in the predictive power enabled by machine learning techniques: can demographic information and building permit data predict rent prices, or vice versa? This situates our research purely in the present, rather than seeking to understand the past, which is both a limitation and an asset. \n",
    "\n",
    "Our approach posed several methodological challenges, most notably difficulty in scraping the craigslist data (discussed in more detail below). However, once we were able to obtain listing data, the remaining components were more straightforward. \n",
    "\n",
    "In the end, we found….TKTKTKT"
   ]
  },
  {
   "cell_type": "code",
   "execution_count": 1,
   "id": "d4bb08ad",
   "metadata": {},
   "outputs": [],
   "source": [
    "### allie's test run!"
   ]
  },
  {
   "cell_type": "markdown",
   "id": "0af945cd",
   "metadata": {},
   "source": [
    "Acquiring data:\n",
    "\n",
    "Acquiring rental listing data was by far the most challenging and time consuming portion of our analysis. We initially had ambitious plans to scrape data from multiple websites, including Zillow and West Side Rentals. However, both have aggressive anti-scraping barriers in place that prohibited us from accessing the data. Scraping Craigslist was our next best source of current housing data. We chose to scrape rental price, square footage, room count, and location to give us a more cohesive understanding of the type of housing offered. We also kept the post title and the url for organization. Even though Craigslist allows scraping, this information did not come easily. \n",
    "\n",
    "Our first lesson was realizing there is a limit on how many attempts Craigslist will allow before it blocks you. While we were testing and adjusting our code, we were often met with a “you are blocked” message on their website. Introducing a random wait time function to our code alleviated this issue. \n",
    "\n",
    "-----> Insert code here\n",
    "\n",
    "This triumph introduced another challenge. We needed geographic point data of each listing for our model, but the listing scrape did not offer geographic information. We learned that we needed to go into each listing’s individual webpage to find the geo data. This required an additional scrape which included more blocked access and frustration.  *Maybe Seth and or Michael can go into this process in more detail here cuz I have no idea how ya’ll figured it out**\n",
    "\n",
    "\n",
    "Permit data pulled new construction permits because we wanted to see how new construction impacted rental prices in an area\n",
    "\n"
   ]
  },
  {
   "cell_type": "code",
   "execution_count": null,
   "id": "b4594e74",
   "metadata": {},
   "outputs": [],
   "source": []
  }
 ],
 "metadata": {
  "kernelspec": {
   "display_name": "Python 3 (ipykernel)",
   "language": "python",
   "name": "python3"
  },
  "language_info": {
   "codemirror_mode": {
    "name": "ipython",
    "version": 3
   },
   "file_extension": ".py",
   "mimetype": "text/x-python",
   "name": "python",
   "nbconvert_exporter": "python",
   "pygments_lexer": "ipython3",
   "version": "3.8.13"
  }
 },
 "nbformat": 4,
 "nbformat_minor": 5
}
