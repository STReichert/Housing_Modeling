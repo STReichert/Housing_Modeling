{
 "cells": [
  {
   "cell_type": "code",
   "execution_count": 5,
   "id": "d87c8324",
   "metadata": {},
   "outputs": [
    {
     "name": "stderr",
     "output_type": "stream",
     "text": [
      "/var/folders/9f/k9n1w01s56j09p5_l0jxvqdr0000gn/T/ipykernel_11131/3253808599.py:8: DeprecationWarning: Importing clear_output from IPython.core.display is deprecated since IPython 7.14, please import from IPython display\n",
      "  from IPython.core.display import clear_output\n"
     ]
    },
    {
     "data": {
      "text/html": [
       "<div>\n",
       "<style scoped>\n",
       "    .dataframe tbody tr th:only-of-type {\n",
       "        vertical-align: middle;\n",
       "    }\n",
       "\n",
       "    .dataframe tbody tr th {\n",
       "        vertical-align: top;\n",
       "    }\n",
       "\n",
       "    .dataframe thead th {\n",
       "        text-align: right;\n",
       "    }\n",
       "</style>\n",
       "<table border=\"1\" class=\"dataframe\">\n",
       "  <thead>\n",
       "    <tr style=\"text-align: right;\">\n",
       "      <th></th>\n",
       "      <th>Unnamed: 0</th>\n",
       "      <th>posted</th>\n",
       "      <th>neighborhood</th>\n",
       "      <th>post title</th>\n",
       "      <th>number bedrooms</th>\n",
       "      <th>sqft</th>\n",
       "      <th>URL</th>\n",
       "      <th>price</th>\n",
       "    </tr>\n",
       "  </thead>\n",
       "  <tbody>\n",
       "    <tr>\n",
       "      <th>0</th>\n",
       "      <td>0</td>\n",
       "      <td>2022-05-22 09:49</td>\n",
       "      <td>(Van Nuys)</td>\n",
       "      <td>❖ Nice Studio in Van Nuys *Full Kitchen *2 Clo...</td>\n",
       "      <td>NaN</td>\n",
       "      <td>425.0</td>\n",
       "      <td>https://losangeles.craigslist.org/sfv/apa/d/va...</td>\n",
       "      <td>1,575</td>\n",
       "    </tr>\n",
       "    <tr>\n",
       "      <th>1</th>\n",
       "      <td>1</td>\n",
       "      <td>2022-05-22 09:49</td>\n",
       "      <td>(North Hollywood)</td>\n",
       "      <td>Renovated Studio in NoHo +Full Kitchen +Plank ...</td>\n",
       "      <td>NaN</td>\n",
       "      <td>500.0</td>\n",
       "      <td>https://losangeles.craigslist.org/sfv/apa/d/to...</td>\n",
       "      <td>1,795</td>\n",
       "    </tr>\n",
       "    <tr>\n",
       "      <th>2</th>\n",
       "      <td>2</td>\n",
       "      <td>2022-05-22 09:49</td>\n",
       "      <td>(Northridge)</td>\n",
       "      <td>2+2 in Northridge +SS Appliances +Quartz Count...</td>\n",
       "      <td>2.0</td>\n",
       "      <td>945.0</td>\n",
       "      <td>https://losangeles.craigslist.org/sfv/apa/d/no...</td>\n",
       "      <td>2,750</td>\n",
       "    </tr>\n",
       "    <tr>\n",
       "      <th>3</th>\n",
       "      <td>3</td>\n",
       "      <td>2022-05-22 09:48</td>\n",
       "      <td>(Glendale)</td>\n",
       "      <td>Glendale Newly Renovated 2+1 with SS Appliance...</td>\n",
       "      <td>2.0</td>\n",
       "      <td>875.0</td>\n",
       "      <td>https://losangeles.craigslist.org/sfv/apa/d/gl...</td>\n",
       "      <td>2,450</td>\n",
       "    </tr>\n",
       "    <tr>\n",
       "      <th>4</th>\n",
       "      <td>4</td>\n",
       "      <td>2022-05-22 09:47</td>\n",
       "      <td>(Toluca Lake)</td>\n",
       "      <td>LIVE IN BEAUTIFUL TOLUCA LAKE-SPACIOUS 1+1 &amp; L...</td>\n",
       "      <td>1.0</td>\n",
       "      <td>847.0</td>\n",
       "      <td>https://losangeles.craigslist.org/sfv/apa/d/no...</td>\n",
       "      <td>3,455</td>\n",
       "    </tr>\n",
       "  </tbody>\n",
       "</table>\n",
       "</div>"
      ],
      "text/plain": [
       "   Unnamed: 0            posted        neighborhood  \\\n",
       "0           0  2022-05-22 09:49          (Van Nuys)   \n",
       "1           1  2022-05-22 09:49   (North Hollywood)   \n",
       "2           2  2022-05-22 09:49        (Northridge)   \n",
       "3           3  2022-05-22 09:48          (Glendale)   \n",
       "4           4  2022-05-22 09:47       (Toluca Lake)   \n",
       "\n",
       "                                          post title  number bedrooms   sqft  \\\n",
       "0  ❖ Nice Studio in Van Nuys *Full Kitchen *2 Clo...              NaN  425.0   \n",
       "1  Renovated Studio in NoHo +Full Kitchen +Plank ...              NaN  500.0   \n",
       "2  2+2 in Northridge +SS Appliances +Quartz Count...              2.0  945.0   \n",
       "3  Glendale Newly Renovated 2+1 with SS Appliance...              2.0  875.0   \n",
       "4  LIVE IN BEAUTIFUL TOLUCA LAKE-SPACIOUS 1+1 & L...              1.0  847.0   \n",
       "\n",
       "                                                 URL  price  \n",
       "0  https://losangeles.craigslist.org/sfv/apa/d/va...  1,575  \n",
       "1  https://losangeles.craigslist.org/sfv/apa/d/to...  1,795  \n",
       "2  https://losangeles.craigslist.org/sfv/apa/d/no...  2,750  \n",
       "3  https://losangeles.craigslist.org/sfv/apa/d/gl...  2,450  \n",
       "4  https://losangeles.craigslist.org/sfv/apa/d/no...  3,455  "
      ]
     },
     "execution_count": 5,
     "metadata": {},
     "output_type": "execute_result"
    }
   ],
   "source": [
    "import pandas as pd\n",
    "from bs4 import BeautifulSoup\n",
    "from time import sleep\n",
    "import re\n",
    "from random import randint #avoid throttling by not sending too many requests one after the other\n",
    "from warnings import warn\n",
    "from time import time\n",
    "from IPython.core.display import clear_output\n",
    "import numpy as np\n",
    "import random\n",
    "\n",
    "\n",
    "sfv_apts = pd.read_csv('data/SFV_apts_May22.csv')\n",
    "sfv_apts.head()"
   ]
  },
  {
   "cell_type": "code",
   "execution_count": 6,
   "id": "c2421956",
   "metadata": {},
   "outputs": [
    {
     "name": "stdout",
     "output_type": "stream",
     "text": [
      "<class 'pandas.core.frame.DataFrame'>\n",
      "RangeIndex: 3120 entries, 0 to 3119\n",
      "Data columns (total 8 columns):\n",
      " #   Column           Non-Null Count  Dtype  \n",
      "---  ------           --------------  -----  \n",
      " 0   Unnamed: 0       3120 non-null   int64  \n",
      " 1   posted           3120 non-null   object \n",
      " 2   neighborhood     3120 non-null   object \n",
      " 3   post title       3120 non-null   object \n",
      " 4   number bedrooms  2522 non-null   float64\n",
      " 5   sqft             2574 non-null   float64\n",
      " 6   URL              3120 non-null   object \n",
      " 7   price            3068 non-null   object \n",
      "dtypes: float64(2), int64(1), object(5)\n",
      "memory usage: 195.1+ KB\n"
     ]
    }
   ],
   "source": [
    "#sfv_apts.drop(columns=['latlon', 'Unnamed: 0'], inplace=True)\n",
    "sfv_apts.info()"
   ]
  },
  {
   "cell_type": "code",
   "execution_count": 7,
   "id": "9f849e3e",
   "metadata": {},
   "outputs": [],
   "source": [
    "# this code is from Seth!\n",
    "import requests\n",
    "\n",
    "def get_latlong(url):\n",
    "    r = requests.get(url)\n",
    "    soup = BeautifulSoup(r.content)\n",
    "    try:\n",
    "        link = soup.find_all('div', class_='viewposting')\n",
    "        lat = link[0]['data-latitude']\n",
    "        long = link[0]['data-longitude']\n",
    "        time.sleep(random.uniform(.5,3))\n",
    "    #this code could be used to randomize the time between calls to craigslist and slow down the scraper \n",
    "    #It definitely helps to keep from getting blocked/throttled\n",
    "        return [lat, long]\n",
    "    except:\n",
    "        return [None, None]"
   ]
  },
  {
   "cell_type": "code",
   "execution_count": null,
   "id": "78347a51",
   "metadata": {},
   "outputs": [],
   "source": [
    "sfv_apts['latlon'] = sfv_apts.URL.apply(get_latlong)"
   ]
  },
  {
   "cell_type": "code",
   "execution_count": null,
   "id": "a072fa76",
   "metadata": {},
   "outputs": [],
   "source": [
    "sfv_apts.sample(10)"
   ]
  }
 ],
 "metadata": {
  "kernelspec": {
   "display_name": "Python 3 (ipykernel)",
   "language": "python",
   "name": "python3"
  },
  "language_info": {
   "codemirror_mode": {
    "name": "ipython",
    "version": 3
   },
   "file_extension": ".py",
   "mimetype": "text/x-python",
   "name": "python",
   "nbconvert_exporter": "python",
   "pygments_lexer": "ipython3",
   "version": "3.8.13"
  }
 },
 "nbformat": 4,
 "nbformat_minor": 5
}
