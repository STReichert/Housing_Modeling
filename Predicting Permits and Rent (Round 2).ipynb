{
 "cells": [
  {
   "cell_type": "code",
   "execution_count": 1,
   "id": "ba50d310",
   "metadata": {},
   "outputs": [],
   "source": [
    "import pandas as pd\n",
    "import geopandas as gpd\n",
    "import matplotlib.pyplot as plt\n",
    "import contextily as ctx\n",
    "import numpy as np\n",
    "from sklearn import linear_model\n",
    "from sklearn.model_selection import train_test_split\n",
    "from sklearn.ensemble import RandomForestRegressor"
   ]
  },
  {
   "cell_type": "code",
   "execution_count": 2,
   "id": "cc31b49d",
   "metadata": {},
   "outputs": [],
   "source": [
    "df=pd.read_csv('/Users/michaelrosen/Desktop/Housing_Modeling/Data/JOINED_CENSUS_LISTINGS_MAY_27.csv')"
   ]
  },
  {
   "cell_type": "code",
   "execution_count": 3,
   "id": "2d6338c0",
   "metadata": {},
   "outputs": [],
   "source": [
    "colstokeep=['posted','post title','neighborhood','URL','price','latlon','y','x']"
   ]
  },
  {
   "cell_type": "code",
   "execution_count": 4,
   "id": "f76eade3",
   "metadata": {},
   "outputs": [],
   "source": [
    "df=df[colstokeep]"
   ]
  },
  {
   "cell_type": "code",
   "execution_count": 5,
   "id": "ddb5613a",
   "metadata": {},
   "outputs": [],
   "source": [
    "gdf = gpd.GeoDataFrame(\n",
    "    df, geometry=gpd.points_from_xy(df.x, df.y))"
   ]
  },
  {
   "cell_type": "code",
   "execution_count": 6,
   "id": "6ea5f857",
   "metadata": {},
   "outputs": [],
   "source": [
    "df2=gpd.read_file('/Users/michaelrosen/Desktop/Housing_Modeling/Data/Grand_Gdf.geojson')"
   ]
  },
  {
   "cell_type": "code",
   "execution_count": 7,
   "id": "ba18340c",
   "metadata": {},
   "outputs": [],
   "source": [
    "model=gpd.sjoin(gdf.set_crs(epsg=4326),df2)"
   ]
  },
  {
   "cell_type": "code",
   "execution_count": 8,
   "id": "4366c81a",
   "metadata": {},
   "outputs": [],
   "source": [
    "model=model.dropna()"
   ]
  },
  {
   "cell_type": "code",
   "execution_count": 9,
   "id": "11b6af87",
   "metadata": {},
   "outputs": [],
   "source": [
    "model_test = model.drop_duplicates(subset = [\"post title\"])"
   ]
  },
  {
   "cell_type": "code",
   "execution_count": 10,
   "id": "5fc09850",
   "metadata": {},
   "outputs": [
    {
     "name": "stderr",
     "output_type": "stream",
     "text": [
      "/Users/michaelrosen/opt/anaconda3/envs/uds/lib/python3.8/site-packages/geopandas/geodataframe.py:1351: SettingWithCopyWarning: \n",
      "A value is trying to be set on a copy of a slice from a DataFrame.\n",
      "Try using .loc[row_indexer,col_indexer] = value instead\n",
      "\n",
      "See the caveats in the documentation: https://pandas.pydata.org/pandas-docs/stable/user_guide/indexing.html#returning-a-view-versus-a-copy\n",
      "  super().__setitem__(key, value)\n"
     ]
    }
   ],
   "source": [
    "model_test['high_ed']=model_test['PctBachelor']+model_test['PctMasters']+model_test['PctDoctorate']"
   ]
  },
  {
   "cell_type": "code",
   "execution_count": 11,
   "id": "f8efcef5",
   "metadata": {},
   "outputs": [],
   "source": [
    "model_test['price'] = model_test['price'].str.replace(',','')"
   ]
  },
  {
   "cell_type": "code",
   "execution_count": 12,
   "id": "86b4cf16",
   "metadata": {},
   "outputs": [],
   "source": [
    "model_test['price']= model_test['price'].apply(pd.to_numeric, errors='coerce')"
   ]
  },
  {
   "cell_type": "code",
   "execution_count": 13,
   "id": "6e65142a",
   "metadata": {},
   "outputs": [
    {
     "data": {
      "text/html": [
       "<div>\n",
       "<style scoped>\n",
       "    .dataframe tbody tr th:only-of-type {\n",
       "        vertical-align: middle;\n",
       "    }\n",
       "\n",
       "    .dataframe tbody tr th {\n",
       "        vertical-align: top;\n",
       "    }\n",
       "\n",
       "    .dataframe thead th {\n",
       "        text-align: right;\n",
       "    }\n",
       "</style>\n",
       "<table border=\"1\" class=\"dataframe\">\n",
       "  <thead>\n",
       "    <tr style=\"text-align: right;\">\n",
       "      <th></th>\n",
       "      <th>posted</th>\n",
       "      <th>post title</th>\n",
       "      <th>neighborhood</th>\n",
       "      <th>URL</th>\n",
       "      <th>price</th>\n",
       "      <th>latlon</th>\n",
       "      <th>y</th>\n",
       "      <th>x</th>\n",
       "      <th>geometry</th>\n",
       "      <th>index_right</th>\n",
       "      <th>...</th>\n",
       "      <th>EducDoct</th>\n",
       "      <th>PctNHW</th>\n",
       "      <th>PctBlackAA</th>\n",
       "      <th>PctAsian</th>\n",
       "      <th>pctPOC</th>\n",
       "      <th>PctBachelor</th>\n",
       "      <th>PctMasters</th>\n",
       "      <th>PctDoctorate</th>\n",
       "      <th>permit_count</th>\n",
       "      <th>high_ed</th>\n",
       "    </tr>\n",
       "  </thead>\n",
       "  <tbody>\n",
       "    <tr>\n",
       "      <th>3</th>\n",
       "      <td>2022-05-25 12:16</td>\n",
       "      <td>Recently Updated 3 Bedroom 2 Bath Quiet Walk S...</td>\n",
       "      <td>(Venice Beach)</td>\n",
       "      <td>https://losangeles.craigslist.org/wst/apa/d/ve...</td>\n",
       "      <td>5500</td>\n",
       "      <td>['33.980825', '-118.467207']</td>\n",
       "      <td>33.980825</td>\n",
       "      <td>-118.467207</td>\n",
       "      <td>POINT (-118.46721 33.98083)</td>\n",
       "      <td>59</td>\n",
       "      <td>...</td>\n",
       "      <td>99.0</td>\n",
       "      <td>87.822791</td>\n",
       "      <td>1.800521</td>\n",
       "      <td>3.837953</td>\n",
       "      <td>12.177209</td>\n",
       "      <td>43.043599</td>\n",
       "      <td>23.965565</td>\n",
       "      <td>2.749236</td>\n",
       "      <td>48.0</td>\n",
       "      <td>69.7584</td>\n",
       "    </tr>\n",
       "    <tr>\n",
       "      <th>5</th>\n",
       "      <td>2022-05-25 12:15</td>\n",
       "      <td>Large 3 Bedroom 2 Bath on Quiet Walk Street St...</td>\n",
       "      <td>(Venice)</td>\n",
       "      <td>https://losangeles.craigslist.org/wst/apa/d/ve...</td>\n",
       "      <td>5500</td>\n",
       "      <td>['33.980825', '-118.467207']</td>\n",
       "      <td>33.980825</td>\n",
       "      <td>-118.467207</td>\n",
       "      <td>POINT (-118.46721 33.98083)</td>\n",
       "      <td>59</td>\n",
       "      <td>...</td>\n",
       "      <td>99.0</td>\n",
       "      <td>87.822791</td>\n",
       "      <td>1.800521</td>\n",
       "      <td>3.837953</td>\n",
       "      <td>12.177209</td>\n",
       "      <td>43.043599</td>\n",
       "      <td>23.965565</td>\n",
       "      <td>2.749236</td>\n",
       "      <td>48.0</td>\n",
       "      <td>69.7584</td>\n",
       "    </tr>\n",
       "    <tr>\n",
       "      <th>6</th>\n",
       "      <td>2022-05-25 10:55</td>\n",
       "      <td>2 bed, 1 bath upper unit on canals</td>\n",
       "      <td>(Venice)</td>\n",
       "      <td>https://losangeles.craigslist.org/wst/apa/d/ve...</td>\n",
       "      <td>3990</td>\n",
       "      <td>['33.984666', '-118.463795']</td>\n",
       "      <td>33.984666</td>\n",
       "      <td>-118.463795</td>\n",
       "      <td>POINT (-118.46380 33.98467)</td>\n",
       "      <td>59</td>\n",
       "      <td>...</td>\n",
       "      <td>99.0</td>\n",
       "      <td>87.822791</td>\n",
       "      <td>1.800521</td>\n",
       "      <td>3.837953</td>\n",
       "      <td>12.177209</td>\n",
       "      <td>43.043599</td>\n",
       "      <td>23.965565</td>\n",
       "      <td>2.749236</td>\n",
       "      <td>48.0</td>\n",
       "      <td>69.7584</td>\n",
       "    </tr>\n",
       "    <tr>\n",
       "      <th>7</th>\n",
       "      <td>2022-05-25 10:32</td>\n",
       "      <td>Fitness Center, Sundeck, Newly Renovated, Stud...</td>\n",
       "      <td>(Close to the Beach)</td>\n",
       "      <td>https://losangeles.craigslist.org/wst/apa/d/ve...</td>\n",
       "      <td>2850</td>\n",
       "      <td>['33.981644', '-118.463038']</td>\n",
       "      <td>33.981644</td>\n",
       "      <td>-118.463038</td>\n",
       "      <td>POINT (-118.46304 33.98164)</td>\n",
       "      <td>59</td>\n",
       "      <td>...</td>\n",
       "      <td>99.0</td>\n",
       "      <td>87.822791</td>\n",
       "      <td>1.800521</td>\n",
       "      <td>3.837953</td>\n",
       "      <td>12.177209</td>\n",
       "      <td>43.043599</td>\n",
       "      <td>23.965565</td>\n",
       "      <td>2.749236</td>\n",
       "      <td>48.0</td>\n",
       "      <td>69.7584</td>\n",
       "    </tr>\n",
       "    <tr>\n",
       "      <th>8</th>\n",
       "      <td>2022-05-25 09:05</td>\n",
       "      <td>Brand New Studio! 5 Blocks from Beach!</td>\n",
       "      <td>(Marina del Rey)</td>\n",
       "      <td>https://losangeles.craigslist.org/wst/apa/d/ve...</td>\n",
       "      <td>2250</td>\n",
       "      <td>['33.982676', '-118.461387']</td>\n",
       "      <td>33.982676</td>\n",
       "      <td>-118.461387</td>\n",
       "      <td>POINT (-118.46139 33.98268)</td>\n",
       "      <td>59</td>\n",
       "      <td>...</td>\n",
       "      <td>99.0</td>\n",
       "      <td>87.822791</td>\n",
       "      <td>1.800521</td>\n",
       "      <td>3.837953</td>\n",
       "      <td>12.177209</td>\n",
       "      <td>43.043599</td>\n",
       "      <td>23.965565</td>\n",
       "      <td>2.749236</td>\n",
       "      <td>48.0</td>\n",
       "      <td>69.7584</td>\n",
       "    </tr>\n",
       "  </tbody>\n",
       "</table>\n",
       "<p>5 rows × 42 columns</p>\n",
       "</div>"
      ],
      "text/plain": [
       "             posted                                         post title  \\\n",
       "3  2022-05-25 12:16  Recently Updated 3 Bedroom 2 Bath Quiet Walk S...   \n",
       "5  2022-05-25 12:15  Large 3 Bedroom 2 Bath on Quiet Walk Street St...   \n",
       "6  2022-05-25 10:55                 2 bed, 1 bath upper unit on canals   \n",
       "7  2022-05-25 10:32  Fitness Center, Sundeck, Newly Renovated, Stud...   \n",
       "8  2022-05-25 09:05             Brand New Studio! 5 Blocks from Beach!   \n",
       "\n",
       "            neighborhood                                                URL  \\\n",
       "3         (Venice Beach)  https://losangeles.craigslist.org/wst/apa/d/ve...   \n",
       "5               (Venice)  https://losangeles.craigslist.org/wst/apa/d/ve...   \n",
       "6               (Venice)  https://losangeles.craigslist.org/wst/apa/d/ve...   \n",
       "7   (Close to the Beach)  https://losangeles.craigslist.org/wst/apa/d/ve...   \n",
       "8       (Marina del Rey)  https://losangeles.craigslist.org/wst/apa/d/ve...   \n",
       "\n",
       "   price                        latlon          y           x  \\\n",
       "3   5500  ['33.980825', '-118.467207']  33.980825 -118.467207   \n",
       "5   5500  ['33.980825', '-118.467207']  33.980825 -118.467207   \n",
       "6   3990  ['33.984666', '-118.463795']  33.984666 -118.463795   \n",
       "7   2850  ['33.981644', '-118.463038']  33.981644 -118.463038   \n",
       "8   2250  ['33.982676', '-118.461387']  33.982676 -118.461387   \n",
       "\n",
       "                      geometry  index_right  ... EducDoct     PctNHW  \\\n",
       "3  POINT (-118.46721 33.98083)           59  ...     99.0  87.822791   \n",
       "5  POINT (-118.46721 33.98083)           59  ...     99.0  87.822791   \n",
       "6  POINT (-118.46380 33.98467)           59  ...     99.0  87.822791   \n",
       "7  POINT (-118.46304 33.98164)           59  ...     99.0  87.822791   \n",
       "8  POINT (-118.46139 33.98268)           59  ...     99.0  87.822791   \n",
       "\n",
       "   PctBlackAA  PctAsian     pctPOC  PctBachelor  PctMasters  PctDoctorate  \\\n",
       "3    1.800521  3.837953  12.177209    43.043599   23.965565      2.749236   \n",
       "5    1.800521  3.837953  12.177209    43.043599   23.965565      2.749236   \n",
       "6    1.800521  3.837953  12.177209    43.043599   23.965565      2.749236   \n",
       "7    1.800521  3.837953  12.177209    43.043599   23.965565      2.749236   \n",
       "8    1.800521  3.837953  12.177209    43.043599   23.965565      2.749236   \n",
       "\n",
       "   permit_count  high_ed  \n",
       "3          48.0  69.7584  \n",
       "5          48.0  69.7584  \n",
       "6          48.0  69.7584  \n",
       "7          48.0  69.7584  \n",
       "8          48.0  69.7584  \n",
       "\n",
       "[5 rows x 42 columns]"
      ]
     },
     "execution_count": 13,
     "metadata": {},
     "output_type": "execute_result"
    }
   ],
   "source": [
    "model_test.head()"
   ]
  },
  {
   "cell_type": "code",
   "execution_count": 14,
   "id": "73f07bdb",
   "metadata": {},
   "outputs": [],
   "source": [
    "xvars = ['permit_count', 'high_ed','PctNHW','PctBlackAA','PctAsian','pctPOC','Median HHI']\n",
    "yvar = 'price'\n",
    "X_train, X_test, y_train, y_test = train_test_split(\n",
    "    model_test[xvars], model_test[yvar], test_size = 0.3, random_state = 1)"
   ]
  },
  {
   "cell_type": "code",
   "execution_count": 15,
   "id": "7322e6c5",
   "metadata": {},
   "outputs": [],
   "source": [
    "rf = RandomForestRegressor(n_estimators = 50, random_state = 1)\n",
    "rf.fit(X_train, y_train)\n",
    "y_pred = rf.predict(X_test)"
   ]
  },
  {
   "cell_type": "code",
   "execution_count": 16,
   "id": "c2916a67",
   "metadata": {},
   "outputs": [
    {
     "data": {
      "text/plain": [
       "880938.6702366977"
      ]
     },
     "execution_count": 16,
     "metadata": {},
     "output_type": "execute_result"
    }
   ],
   "source": [
    "np.abs(y_pred-y_test).sum()"
   ]
  },
  {
   "cell_type": "code",
   "execution_count": 17,
   "id": "18d15b87",
   "metadata": {},
   "outputs": [],
   "source": [
    "a=y_test\n",
    "e=y_pred\n",
    "c=np.array(y_test)\n",
    "d=np.array(y_pred)\n",
    "m, b = np.polyfit(c, d, 1)"
   ]
  },
  {
   "cell_type": "code",
   "execution_count": 18,
   "id": "56cacab1",
   "metadata": {},
   "outputs": [
    {
     "data": {
      "image/png": "[encoded data removed]",
      "text/plain": [
       "<Figure size 432x288 with 1 Axes>"
      ]
     },
     "metadata": {
      "needs_background": "light"
     },
     "output_type": "display_data"
    }
   ],
   "source": [
    "plt.plot(a,e,'o')\n",
    "plt.plot(c, m*c + b)\n",
    "plt.title(label=\"Predicted/Real\",\n",
    "          fontsize=20,\n",
    "          color=\"black\",)\n",
    "plt.xlabel('y_test', fontsize=12)\n",
    "plt.ylabel('y_pred', fontsize=12)\n",
    "plt.tight_layout()\n",
    "plt.subplots_adjust(top=0.85)"
   ]
  },
  {
   "cell_type": "code",
   "execution_count": 19,
   "id": "c9d10cc7",
   "metadata": {},
   "outputs": [
    {
     "data": {
      "text/plain": [
       "array([[1.        , 0.40420003],\n",
       "       [0.40420003, 1.        ]])"
      ]
     },
     "execution_count": 19,
     "metadata": {},
     "output_type": "execute_result"
    }
   ],
   "source": [
    "np.corrcoef(y_pred,y_test)"
   ]
  },
  {
   "cell_type": "code",
   "execution_count": 20,
   "id": "4d68706b",
   "metadata": {},
   "outputs": [
    {
     "data": {
      "text/plain": [
       "Text(0, 0.5, 'Percent contribution')"
      ]
     },
     "execution_count": 20,
     "metadata": {},
     "output_type": "execute_result"
    },
    {
     "data": {
      "image/png": "[encoded data removed]",
      "text/plain": [
       "<Figure size 432x288 with 1 Axes>"
      ]
     },
     "metadata": {
      "needs_background": "light"
     },
     "output_type": "display_data"
    }
   ],
   "source": [
    "importances = rf.feature_importances_\n",
    "forest_importances = pd.Series(importances, index=X_train.columns)\n",
    "std = np.std([tree.feature_importances_ for tree in rf.estimators_], axis=0)\n",
    "fig, ax = plt.subplots()\n",
    "forest_importances.plot.bar(yerr=std, ax=ax)\n",
    "ax.set_title(\"Feature importances of predictor variables\")\n",
    "ax.set_ylabel(\"Percent contribution\")"
   ]
  },
  {
   "cell_type": "code",
   "execution_count": 21,
   "id": "1e781e5a",
   "metadata": {},
   "outputs": [],
   "source": [
    "xvars2 = ['high_ed','PctBlackAA','PctAsian','Median HHI']\n",
    "yvar2 = 'price'\n",
    "X_train2, X_test2, y_train2, y_test2 = train_test_split(\n",
    "    model_test[xvars2], model_test[yvar2], test_size = 0.3, random_state = 1)"
   ]
  },
  {
   "cell_type": "code",
   "execution_count": 22,
   "id": "951c3ec5",
   "metadata": {},
   "outputs": [],
   "source": [
    "a2=y_test\n",
    "e2=y_pred\n",
    "c2=np.array(y_test)\n",
    "d2=np.array(y_pred)\n",
    "m2, b2 = np.polyfit(c2, d2, 1)"
   ]
  },
  {
   "cell_type": "code",
   "execution_count": 23,
   "id": "01964b9d",
   "metadata": {},
   "outputs": [],
   "source": [
    "rf2 = RandomForestRegressor(n_estimators = 50, random_state = 1)\n",
    "rf2.fit(X_train2, y_train2)\n",
    "y_pred2 = rf2.predict(X_test2)"
   ]
  },
  {
   "cell_type": "code",
   "execution_count": 24,
   "id": "1c5e83ef",
   "metadata": {},
   "outputs": [
    {
     "data": {
      "image/png": "[encoded data removed]",
      "text/plain": [
       "<Figure size 432x288 with 1 Axes>"
      ]
     },
     "metadata": {
      "needs_background": "light"
     },
     "output_type": "display_data"
    }
   ],
   "source": [
    "plt.plot(a2,e2,'o')\n",
    "plt.plot(c2, m2*c2 + b2)\n",
    "plt.title(label=\"Predicted/Real\",\n",
    "          fontsize=20,\n",
    "          color=\"black\",)\n",
    "plt.xlabel('y_test', fontsize=12)\n",
    "plt.ylabel('y_pred', fontsize=12)\n",
    "plt.tight_layout()\n",
    "plt.subplots_adjust(top=0.85)"
   ]
  },
  {
   "cell_type": "code",
   "execution_count": 25,
   "id": "6c9795f1",
   "metadata": {},
   "outputs": [
    {
     "data": {
      "text/plain": [
       "array([[1.        , 0.40408934],\n",
       "       [0.40408934, 1.        ]])"
      ]
     },
     "execution_count": 25,
     "metadata": {},
     "output_type": "execute_result"
    }
   ],
   "source": [
    "np.corrcoef(y_pred2,y_test2)"
   ]
  },
  {
   "cell_type": "code",
   "execution_count": 29,
   "id": "62fe0b56",
   "metadata": {},
   "outputs": [
    {
     "data": {
      "text/plain": [
       "Text(17.200000000000003, 0.5, 'Percent contribution')"
      ]
     },
     "execution_count": 29,
     "metadata": {},
     "output_type": "execute_result"
    },
    {
     "data": {
      "image/png": "[encoded data removed]",
      "text/plain": [
       "<Figure size 432x288 with 1 Axes>"
      ]
     },
     "metadata": {
      "needs_background": "light"
     },
     "output_type": "display_data"
    }
   ],
   "source": [
    "importances2 = rf2.feature_importances_\n",
    "forest_importances2 = pd.Series(importances2, index=X_train2.columns)\n",
    "std2 = np.std([tree.feature_importances_ for tree in rf2.estimators_], axis=0)\n",
    "fig2, ax2 = plt.subplots()\n",
    "forest_importances2.plot.bar(yerr=std2, ax=ax2)\n",
    "ax.set_title(\"Feature importances of predictor variables\")\n",
    "ax.set_ylabel(\"Percent contribution\")"
   ]
  },
  {
   "cell_type": "code",
   "execution_count": null,
   "id": "1c6cc153",
   "metadata": {},
   "outputs": [],
   "source": []
  }
 ],
 "metadata": {
  "kernelspec": {
   "display_name": "Python 3 (ipykernel)",
   "language": "python",
   "name": "python3"
  },
  "language_info": {
   "codemirror_mode": {
    "name": "ipython",
    "version": 3
   },
   "file_extension": ".py",
   "mimetype": "text/x-python",
   "name": "python",
   "nbconvert_exporter": "python",
   "pygments_lexer": "ipython3",
   "version": "3.8.13"
  }
 },
 "nbformat": 4,
 "nbformat_minor": 5
}
