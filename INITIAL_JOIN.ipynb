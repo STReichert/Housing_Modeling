{
 "cells": [
  {
   "cell_type": "code",
   "execution_count": 112,
   "id": "93e99e93",
   "metadata": {},
   "outputs": [],
   "source": [
    "import pandas as pd\n",
    "import requests\n",
    "from requests import get\n",
    "from bs4 import BeautifulSoup\n",
    "import random\n",
    "import time\n",
    "import geopandas as gpd"
   ]
  },
  {
   "cell_type": "code",
   "execution_count": 113,
   "id": "76d417ba",
   "metadata": {},
   "outputs": [],
   "source": [
    "df1=pd.read_csv('/Users/michaelrosen/Desktop/Housing_Modeling/Data/la_apts_SFV_geometry_May27.csv')\n",
    "df2=pd.read_csv('/Users/michaelrosen/Desktop/Housing_Modeling/Data/wst_5-25_geometry.csv')\n",
    "df3=pd.read_csv('/Users/michaelrosen/Desktop/Housing_Modeling/Data/lac_5-23_latlong.csv')\n",
    "df4=pd.read_csv('/Users/michaelrosen/Desktop/Housing_Modeling/Data/sgv_latlong.csv')\n",
    "df5=pd.read_csv('/Users/michaelrosen/Desktop/Housing_Modeling/Data/lgb_latlong.csv')"
   ]
  },
  {
   "cell_type": "code",
   "execution_count": 114,
   "id": "db5741c6",
   "metadata": {},
   "outputs": [],
   "source": [
    "df1['x']=df1['x']*-1"
   ]
  },
  {
   "cell_type": "code",
   "execution_count": 115,
   "id": "90a3551d",
   "metadata": {},
   "outputs": [],
   "source": [
    "df=pd.concat([df1, df2, df3, df4, df5])"
   ]
  },
  {
   "cell_type": "code",
   "execution_count": 116,
   "id": "7b4d3834",
   "metadata": {},
   "outputs": [],
   "source": [
    "df = df.drop(columns=['Unnamed: 0.1','Unnamed: 0'])"
   ]
  },
  {
   "cell_type": "code",
   "execution_count": 27,
   "id": "7bac6f66",
   "metadata": {},
   "outputs": [],
   "source": [
    "df.to_csv('Data/joins_MAY_27.csv')"
   ]
  },
  {
   "cell_type": "code",
   "execution_count": 117,
   "id": "8af0b3ad",
   "metadata": {},
   "outputs": [],
   "source": [
    "gdf = gpd.GeoDataFrame(\n",
    "    df, geometry=gpd.points_from_xy(df.x, df.y))"
   ]
  },
  {
   "cell_type": "code",
   "execution_count": 118,
   "id": "d67a1f24",
   "metadata": {},
   "outputs": [],
   "source": [
    "la=gpd.read_file('/Users/michaelrosen/Desktop/Housing_Modeling/Data/lacounty_clipped.geojson')"
   ]
  },
  {
   "cell_type": "code",
   "execution_count": 155,
   "id": "70ad00b6",
   "metadata": {},
   "outputs": [],
   "source": [
    "geojoin=gpd.sjoin(gdf.set_crs(epsg=4326),la,how='right')"
   ]
  },
  {
   "cell_type": "code",
   "execution_count": 157,
   "id": "0460f00e",
   "metadata": {},
   "outputs": [
    {
     "data": {
      "text/html": [
       "<div>\n",
       "<style scoped>\n",
       "    .dataframe tbody tr th:only-of-type {\n",
       "        vertical-align: middle;\n",
       "    }\n",
       "\n",
       "    .dataframe tbody tr th {\n",
       "        vertical-align: top;\n",
       "    }\n",
       "\n",
       "    .dataframe thead th {\n",
       "        text-align: right;\n",
       "    }\n",
       "</style>\n",
       "<table border=\"1\" class=\"dataframe\">\n",
       "  <thead>\n",
       "    <tr style=\"text-align: right;\">\n",
       "      <th></th>\n",
       "      <th>index_left</th>\n",
       "      <th>posted</th>\n",
       "      <th>neighborhood</th>\n",
       "      <th>post title</th>\n",
       "      <th>number bedrooms</th>\n",
       "      <th>sqft</th>\n",
       "      <th>URL</th>\n",
       "      <th>price</th>\n",
       "      <th>latlon</th>\n",
       "      <th>y</th>\n",
       "      <th>...</th>\n",
       "      <th>EducProf</th>\n",
       "      <th>EducDoct</th>\n",
       "      <th>PctNHW</th>\n",
       "      <th>PctBlackAA</th>\n",
       "      <th>PctAsian</th>\n",
       "      <th>pctPOC</th>\n",
       "      <th>PctBachelor</th>\n",
       "      <th>PctMasters</th>\n",
       "      <th>PctDoctorate</th>\n",
       "      <th>geometry</th>\n",
       "    </tr>\n",
       "  </thead>\n",
       "  <tbody>\n",
       "    <tr>\n",
       "      <th>0</th>\n",
       "      <td>1526.0</td>\n",
       "      <td>2022-05-23 18:03</td>\n",
       "      <td>(Marina del Rey)</td>\n",
       "      <td>Pristine 3Bd, 2 Ba Townhouse In Marina Del Rey...</td>\n",
       "      <td>3.0</td>\n",
       "      <td>1500.0</td>\n",
       "      <td>https://losangeles.craigslist.org/wst/apa/d/ma...</td>\n",
       "      <td>6,500</td>\n",
       "      <td>['33.976661', '-118.462111']</td>\n",
       "      <td>33.976661</td>\n",
       "      <td>...</td>\n",
       "      <td>411.0</td>\n",
       "      <td>247.0</td>\n",
       "      <td>77.964519</td>\n",
       "      <td>2.054155</td>\n",
       "      <td>8.216620</td>\n",
       "      <td>22.035481</td>\n",
       "      <td>34.970946</td>\n",
       "      <td>27.284733</td>\n",
       "      <td>6.524036</td>\n",
       "      <td>POLYGON ((-118.46683 33.97905, -118.46654 33.9...</td>\n",
       "    </tr>\n",
       "    <tr>\n",
       "      <th>0</th>\n",
       "      <td>2020.0</td>\n",
       "      <td>2022-05-23 09:47</td>\n",
       "      <td>(Marina del Rey)</td>\n",
       "      <td>3 Bedroom Furnished Marina del Rey Peninsula/V...</td>\n",
       "      <td>3.0</td>\n",
       "      <td>1850.0</td>\n",
       "      <td>https://losangeles.craigslist.org/wst/apa/d/ve...</td>\n",
       "      <td>7,200</td>\n",
       "      <td>['33.976739', '-118.462411']</td>\n",
       "      <td>33.976739</td>\n",
       "      <td>...</td>\n",
       "      <td>411.0</td>\n",
       "      <td>247.0</td>\n",
       "      <td>77.964519</td>\n",
       "      <td>2.054155</td>\n",
       "      <td>8.216620</td>\n",
       "      <td>22.035481</td>\n",
       "      <td>34.970946</td>\n",
       "      <td>27.284733</td>\n",
       "      <td>6.524036</td>\n",
       "      <td>POLYGON ((-118.46683 33.97905, -118.46654 33.9...</td>\n",
       "    </tr>\n",
       "    <tr>\n",
       "      <th>0</th>\n",
       "      <td>2647.0</td>\n",
       "      <td>2022-05-21 13:45</td>\n",
       "      <td>(Marina Del Rey)</td>\n",
       "      <td>Marina del Rey Beach Furnished 3 bedroom 3 bat...</td>\n",
       "      <td>3.0</td>\n",
       "      <td>1800.0</td>\n",
       "      <td>https://losangeles.craigslist.org/wst/apa/d/ve...</td>\n",
       "      <td>6,995</td>\n",
       "      <td>['33.979506', '-118.464868']</td>\n",
       "      <td>33.979506</td>\n",
       "      <td>...</td>\n",
       "      <td>411.0</td>\n",
       "      <td>247.0</td>\n",
       "      <td>77.964519</td>\n",
       "      <td>2.054155</td>\n",
       "      <td>8.216620</td>\n",
       "      <td>22.035481</td>\n",
       "      <td>34.970946</td>\n",
       "      <td>27.284733</td>\n",
       "      <td>6.524036</td>\n",
       "      <td>POLYGON ((-118.46683 33.97905, -118.46654 33.9...</td>\n",
       "    </tr>\n",
       "    <tr>\n",
       "      <th>1</th>\n",
       "      <td>47.0</td>\n",
       "      <td>2022-05-25 12:16</td>\n",
       "      <td>(Venice Beach)</td>\n",
       "      <td>Recently Updated 3 Bedroom 2 Bath Quiet Walk S...</td>\n",
       "      <td>3.0</td>\n",
       "      <td>1400.0</td>\n",
       "      <td>https://losangeles.craigslist.org/wst/apa/d/ve...</td>\n",
       "      <td>5,500</td>\n",
       "      <td>['33.980825', '-118.467207']</td>\n",
       "      <td>33.980825</td>\n",
       "      <td>...</td>\n",
       "      <td>258.0</td>\n",
       "      <td>99.0</td>\n",
       "      <td>87.822791</td>\n",
       "      <td>1.800521</td>\n",
       "      <td>3.837953</td>\n",
       "      <td>12.177209</td>\n",
       "      <td>43.043599</td>\n",
       "      <td>23.965565</td>\n",
       "      <td>2.749236</td>\n",
       "      <td>POLYGON ((-118.47136 33.98425, -118.47106 33.9...</td>\n",
       "    </tr>\n",
       "    <tr>\n",
       "      <th>1</th>\n",
       "      <td>48.0</td>\n",
       "      <td>2022-05-25 12:15</td>\n",
       "      <td>(Venice Beach)</td>\n",
       "      <td>Recently Updated 3 Bedroom 2 Bath Quiet Walk S...</td>\n",
       "      <td>3.0</td>\n",
       "      <td>1400.0</td>\n",
       "      <td>https://losangeles.craigslist.org/wst/apa/d/ve...</td>\n",
       "      <td>5,500</td>\n",
       "      <td>['33.980825', '-118.467207']</td>\n",
       "      <td>33.980825</td>\n",
       "      <td>...</td>\n",
       "      <td>258.0</td>\n",
       "      <td>99.0</td>\n",
       "      <td>87.822791</td>\n",
       "      <td>1.800521</td>\n",
       "      <td>3.837953</td>\n",
       "      <td>12.177209</td>\n",
       "      <td>43.043599</td>\n",
       "      <td>23.965565</td>\n",
       "      <td>2.749236</td>\n",
       "      <td>POLYGON ((-118.47136 33.98425, -118.47106 33.9...</td>\n",
       "    </tr>\n",
       "  </tbody>\n",
       "</table>\n",
       "<p>5 rows × 37 columns</p>\n",
       "</div>"
      ],
      "text/plain": [
       "   index_left            posted       neighborhood  \\\n",
       "0      1526.0  2022-05-23 18:03   (Marina del Rey)   \n",
       "0      2020.0  2022-05-23 09:47   (Marina del Rey)   \n",
       "0      2647.0  2022-05-21 13:45   (Marina Del Rey)   \n",
       "1        47.0  2022-05-25 12:16     (Venice Beach)   \n",
       "1        48.0  2022-05-25 12:15     (Venice Beach)   \n",
       "\n",
       "                                          post title  number bedrooms    sqft  \\\n",
       "0  Pristine 3Bd, 2 Ba Townhouse In Marina Del Rey...              3.0  1500.0   \n",
       "0  3 Bedroom Furnished Marina del Rey Peninsula/V...              3.0  1850.0   \n",
       "0  Marina del Rey Beach Furnished 3 bedroom 3 bat...              3.0  1800.0   \n",
       "1  Recently Updated 3 Bedroom 2 Bath Quiet Walk S...              3.0  1400.0   \n",
       "1  Recently Updated 3 Bedroom 2 Bath Quiet Walk S...              3.0  1400.0   \n",
       "\n",
       "                                                 URL  price  \\\n",
       "0  https://losangeles.craigslist.org/wst/apa/d/ma...  6,500   \n",
       "0  https://losangeles.craigslist.org/wst/apa/d/ve...  7,200   \n",
       "0  https://losangeles.craigslist.org/wst/apa/d/ve...  6,995   \n",
       "1  https://losangeles.craigslist.org/wst/apa/d/ve...  5,500   \n",
       "1  https://losangeles.craigslist.org/wst/apa/d/ve...  5,500   \n",
       "\n",
       "                         latlon          y  ...  EducProf EducDoct     PctNHW  \\\n",
       "0  ['33.976661', '-118.462111']  33.976661  ...     411.0    247.0  77.964519   \n",
       "0  ['33.976739', '-118.462411']  33.976739  ...     411.0    247.0  77.964519   \n",
       "0  ['33.979506', '-118.464868']  33.979506  ...     411.0    247.0  77.964519   \n",
       "1  ['33.980825', '-118.467207']  33.980825  ...     258.0     99.0  87.822791   \n",
       "1  ['33.980825', '-118.467207']  33.980825  ...     258.0     99.0  87.822791   \n",
       "\n",
       "   PctBlackAA  PctAsian     pctPOC  PctBachelor  PctMasters  PctDoctorate  \\\n",
       "0    2.054155  8.216620  22.035481    34.970946   27.284733      6.524036   \n",
       "0    2.054155  8.216620  22.035481    34.970946   27.284733      6.524036   \n",
       "0    2.054155  8.216620  22.035481    34.970946   27.284733      6.524036   \n",
       "1    1.800521  3.837953  12.177209    43.043599   23.965565      2.749236   \n",
       "1    1.800521  3.837953  12.177209    43.043599   23.965565      2.749236   \n",
       "\n",
       "                                            geometry  \n",
       "0  POLYGON ((-118.46683 33.97905, -118.46654 33.9...  \n",
       "0  POLYGON ((-118.46683 33.97905, -118.46654 33.9...  \n",
       "0  POLYGON ((-118.46683 33.97905, -118.46654 33.9...  \n",
       "1  POLYGON ((-118.47136 33.98425, -118.47106 33.9...  \n",
       "1  POLYGON ((-118.47136 33.98425, -118.47106 33.9...  \n",
       "\n",
       "[5 rows x 37 columns]"
      ]
     },
     "execution_count": 157,
     "metadata": {},
     "output_type": "execute_result"
    }
   ],
   "source": [
    "geojoin.head()"
   ]
  },
  {
   "cell_type": "code",
   "execution_count": 158,
   "id": "6b41c49c",
   "metadata": {},
   "outputs": [],
   "source": [
    "listings_only = gpd.GeoDataFrame(\n",
    "    geojoin, geometry=gpd.points_from_xy(geojoin.x, geojoin.y))"
   ]
  },
  {
   "cell_type": "code",
   "execution_count": 160,
   "id": "4827511a",
   "metadata": {},
   "outputs": [
    {
     "data": {
      "text/plain": [
       "<AxesSubplot:>"
      ]
     },
     "execution_count": 160,
     "metadata": {},
     "output_type": "execute_result"
    },
    {
     "data": {
      "image/png": "[encoded data removed]",
      "text/plain": [
       "<Figure size 432x288 with 1 Axes>"
      ]
     },
     "metadata": {
      "needs_background": "light"
     },
     "output_type": "display_data"
    }
   ],
   "source": [
    "listings_only.plot()"
   ]
  },
  {
   "cell_type": "code",
   "execution_count": 161,
   "id": "cae7e329",
   "metadata": {},
   "outputs": [],
   "source": [
    "brain=geojoin['GEOID'].value_counts()"
   ]
  },
  {
   "cell_type": "code",
   "execution_count": 165,
   "id": "5152690d",
   "metadata": {},
   "outputs": [
    {
     "name": "stdout",
     "output_type": "stream",
     "text": [
      "<class 'geopandas.geodataframe.GeoDataFrame'>\n",
      "Int64Index: 7551 entries, 0 to 1148\n",
      "Data columns (total 37 columns):\n",
      " #   Column           Non-Null Count  Dtype   \n",
      "---  ------           --------------  -----   \n",
      " 0   index_left       6902 non-null   float64 \n",
      " 1   posted           6902 non-null   object  \n",
      " 2   neighborhood     6902 non-null   object  \n",
      " 3   post title       6902 non-null   object  \n",
      " 4   number bedrooms  5506 non-null   float64 \n",
      " 5   sqft             5633 non-null   float64 \n",
      " 6   URL              6902 non-null   object  \n",
      " 7   price            6784 non-null   object  \n",
      " 8   latlon           6902 non-null   object  \n",
      " 9   y                6902 non-null   float64 \n",
      " 10  x                6902 non-null   float64 \n",
      " 11  GEOID            7551 non-null   object  \n",
      " 12  TotalPop         7551 non-null   float64 \n",
      " 13  WhitePop         7551 non-null   float64 \n",
      " 14  BlackorAA        7551 non-null   float64 \n",
      " 15  AmInd_AKnative   7551 non-null   float64 \n",
      " 16  Asian            7551 non-null   float64 \n",
      " 17  Hawaiian_PI      7551 non-null   float64 \n",
      " 18  Other            7551 non-null   float64 \n",
      " 19  EducTotal        7551 non-null   float64 \n",
      " 20  Median HHI       7521 non-null   float64 \n",
      " 21  NAME             7551 non-null   object  \n",
      " 22  state            7551 non-null   object  \n",
      " 23  county           7551 non-null   object  \n",
      " 24  tract            7551 non-null   object  \n",
      " 25  EducBachelor     7551 non-null   float64 \n",
      " 26  EducMasters      7551 non-null   float64 \n",
      " 27  EducProf         7551 non-null   float64 \n",
      " 28  EducDoct         7551 non-null   float64 \n",
      " 29  PctNHW           7530 non-null   float64 \n",
      " 30  PctBlackAA       7530 non-null   float64 \n",
      " 31  PctAsian         7530 non-null   float64 \n",
      " 32  pctPOC           7530 non-null   float64 \n",
      " 33  PctBachelor      7529 non-null   float64 \n",
      " 34  PctMasters       7529 non-null   float64 \n",
      " 35  PctDoctorate     7529 non-null   float64 \n",
      " 36  geometry         7551 non-null   geometry\n",
      "dtypes: float64(25), geometry(1), object(11)\n",
      "memory usage: 2.2+ MB\n"
     ]
    }
   ],
   "source": [
    "geojoin.info()"
   ]
  },
  {
   "cell_type": "code",
   "execution_count": 166,
   "id": "b7ebdab8",
   "metadata": {},
   "outputs": [],
   "source": [
    "geojoin.to_csv('Data/JOINED_CENSUS_LISTINGS_MAY_27.csv')"
   ]
  },
  {
   "cell_type": "code",
   "execution_count": null,
   "id": "32e094c9",
   "metadata": {},
   "outputs": [],
   "source": []
  }
 ],
 "metadata": {
  "kernelspec": {
   "display_name": "Python 3 (ipykernel)",
   "language": "python",
   "name": "python3"
  },
  "language_info": {
   "codemirror_mode": {
    "name": "ipython",
    "version": 3
   },
   "file_extension": ".py",
   "mimetype": "text/x-python",
   "name": "python",
   "nbconvert_exporter": "python",
   "pygments_lexer": "ipython3",
   "version": "3.8.13"
  }
 },
 "nbformat": 4,
 "nbformat_minor": 5
}
