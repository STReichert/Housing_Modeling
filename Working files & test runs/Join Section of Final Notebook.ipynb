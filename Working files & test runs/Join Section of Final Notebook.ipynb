{
 "cells": [
  {
   "cell_type": "markdown",
   "id": "48581e9b",
   "metadata": {},
   "source": [
    "# Joining Our Datasets into the Grand Dataset\n",
    "\n",
    "### Reference our notebooks \"joins\", \"Mean Median Rent Per Tract\", and \"Permits Groupby\" to follow along\n",
    "\n",
    "After finally scraping current listing data, we each had a dataset for each of the five Los Angeles neighborhoods; San Fernando Valley, Westside, Central Los Angeles, and San Gabriel Valley. The dataset for San Fernando Valley had an error where the \"x\" coordinates dropped a negative sign. We multiplied that column by -1 and aggregated the listings into one data frame. We also had a dataset of LA's new construction permit data and a dataset of demographic variables in each census tract. The census dataset was clipped to only include the tracts that fell in the City of Los Angeles's boundaries. See \"Census Data\" notebook to see the clip function.\n",
    "\n",
    "We decided to get counts of permits, listings, average and median rental price, average and median square footage, and average and median number of rooms for each census tract. then did a right join with the census data so that each listing was joined to a census tract in the city boundaries. This took out all the listings that were outside the city boundaries.\n",
    "\n",
    "To get the count of permits in each census tract (see \"Permits Groupby\" notebook), we first did a spatial join of the permit data and the clipped census data. This created a dataset where each permit had a census tract. We used the groupby function to count how many permits were in each census tract (GEOID). Then we joined the count data back to the shapefile and set the index as the GEOID. This gave us a dataframe of the census variables in each census tract with a count of the permit data. We saved this geodataframe as \"CensusPlusPermits.geojson\".\n",
    "\n",
    "Next, to get the count of listings, average and median rental price, average and median square footage, and average and median number of rooms for each census tract, we followed a similar process as before (see \"Mean Median Rent Per Tract\" notebook). We had to turn the columns into numeric variables in order to get the average price. We used the groupby and count functions similar to before and also mean and median functions which gave us the variables we were looking for. We created a dataframe of the listing count and average rent and kept adding series to the dataset. We only kept the census tracts that had more than 5 listings so that our averages wouldn’t be skewed, and joined this data frame to the census plus permits dataset, thereby creating the \"grand\" dataframe! "
   ]
  },
  {
   "cell_type": "code",
   "execution_count": null,
   "id": "fab9f25d",
   "metadata": {},
   "outputs": [],
   "source": []
  }
 ],
 "metadata": {
  "kernelspec": {
   "display_name": "Python 3 (ipykernel)",
   "language": "python",
   "name": "python3"
  },
  "language_info": {
   "codemirror_mode": {
    "name": "ipython",
    "version": 3
   },
   "file_extension": ".py",
   "mimetype": "text/x-python",
   "name": "python",
   "nbconvert_exporter": "python",
   "pygments_lexer": "ipython3",
   "version": "3.8.13"
  }
 },
 "nbformat": 4,
 "nbformat_minor": 5
}
